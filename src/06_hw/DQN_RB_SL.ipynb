{
 "cells": [
  {
   "cell_type": "markdown",
   "metadata": {},
   "source": [
    "# Визуализация работы натреннерованного агента на DQN + RB + SL"
   ]
  },
  {
   "cell_type": "code",
   "execution_count": 1,
   "metadata": {},
   "outputs": [],
   "source": [
    "# импортируем\n",
    "import gymnasium as gym\n",
    "import numpy as np\n",
    "import torch\n",
    "import torch.nn as nn\n",
    "import random\n",
    "from collections import deque\n",
    "from tqdm import tqdm\n",
    "import matplotlib.pyplot as plt"
   ]
  },
  {
   "cell_type": "code",
   "execution_count": 2,
   "metadata": {},
   "outputs": [
    {
     "name": "stdout",
     "output_type": "stream",
     "text": [
      "Using device: cuda\n"
     ]
    }
   ],
   "source": [
    "# Чекаем CUDA\n",
    "device = torch.device(\"cuda\" if torch.cuda.is_available() else \"cpu\")\n",
    "print(f\"Using device: {device}\")"
   ]
  },
  {
   "cell_type": "code",
   "execution_count": 3,
   "metadata": {},
   "outputs": [],
   "source": [
    "# Replya Buffer Реализация чз Torch\n",
    "class ReplayBuffer:\n",
    "    def __init__(self, capacity):\n",
    "        self.buffer = deque(maxlen=capacity)\n",
    "\n",
    "    def push(self, state, action, reward, next_state, done):\n",
    "        self.buffer.append((state, action, reward, next_state, done))\n",
    "\n",
    "    def sample(self, batch_size):\n",
    "        transitions = random.sample(self.buffer, batch_size)\n",
    "        state, action, reward, next_state, done = zip(*transitions)\n",
    "\n",
    "        return (\n",
    "            torch.FloatTensor(state).to(device),\n",
    "            torch.LongTensor(action).to(device),\n",
    "            torch.FloatTensor(reward).to(device),\n",
    "            torch.FloatTensor(next_state).to(device),\n",
    "            torch.FloatTensor(done).to(device),\n",
    "        )\n",
    "\n",
    "    def __len__(self):\n",
    "        return len(self.buffer)"
   ]
  },
  {
   "cell_type": "code",
   "execution_count": 4,
   "metadata": {},
   "outputs": [],
   "source": [
    "# DQN чз GPU\n",
    "class DQN(nn.Module):\n",
    "    def __init__(self, state_dim, action_dim):\n",
    "        super(DQN, self).__init__()\n",
    "\n",
    "        self.network = nn.Sequential(\n",
    "            nn.Linear(state_dim, 256),\n",
    "            nn.ReLU(),\n",
    "            nn.Linear(256, 256),\n",
    "            nn.ReLU(),\n",
    "            nn.Linear(256, action_dim),\n",
    "        ).to(device)\n",
    "\n",
    "    def forward(self, x):\n",
    "        return self.network(x)\n",
    "\n",
    "    def act(self, state, epsilon):\n",
    "        if random.random() < epsilon:\n",
    "            return random.randint(0, self.network[-1].out_features - 1)\n",
    "\n",
    "        with torch.no_grad():\n",
    "            state = torch.FloatTensor(state).unsqueeze(0).to(device)\n",
    "            q_values = self.forward(state)\n",
    "            return torch.argmax(q_values).item()"
   ]
  },
  {
   "cell_type": "code",
   "execution_count": 5,
   "metadata": {},
   "outputs": [],
   "source": [
    "# Агент\n",
    "class DQNAgent:\n",
    "    def __init__(\n",
    "        self,\n",
    "        state_dim,\n",
    "        action_dim,\n",
    "        lr=3e-4,\n",
    "        gamma=0.99,\n",
    "        buffer_size=100000,\n",
    "        batch_size=256,\n",
    "        target_update=0.005,\n",
    "    ):\n",
    "        self.action_dim = action_dim\n",
    "        self.batch_size = batch_size\n",
    "        self.gamma = gamma\n",
    "        self.target_update = target_update\n",
    "\n",
    "        # Основная и целевая сети\n",
    "        self.q_network = DQN(state_dim, action_dim)\n",
    "        self.target_network = DQN(state_dim, action_dim)\n",
    "        self.target_network.load_state_dict(self.q_network.state_dict())\n",
    "\n",
    "        self.optimizer = torch.optim.Adam(self.q_network.parameters(), lr=lr)\n",
    "        self.memory = ReplayBuffer(buffer_size)\n",
    "\n",
    "    def update(self):\n",
    "        if len(self.memory) < self.batch_size:\n",
    "            return\n",
    "\n",
    "        # Извлекаем batch из памяти\n",
    "        state, action, reward, next_state, done = self.memory.sample(self.batch_size)\n",
    "\n",
    "        # Вычисляем текущие Q-значения\n",
    "        current_q = self.q_network(state).gather(1, action.unsqueeze(1))\n",
    "\n",
    "        # Вычисляем целевые Q-значения\n",
    "        with torch.no_grad():\n",
    "            next_q = self.target_network(next_state).max(1)[0]\n",
    "            target_q = reward + (1 - done) * self.gamma * next_q\n",
    "\n",
    "        # Вычисляем loss и обновляем веса\n",
    "        loss = nn.MSELoss()(current_q.squeeze(), target_q)\n",
    "\n",
    "        self.optimizer.zero_grad()\n",
    "        loss.backward()\n",
    "        self.optimizer.step()\n",
    "\n",
    "        # Мягкое обновление целевой сети\n",
    "        for target_param, param in zip(\n",
    "            self.target_network.parameters(), self.q_network.parameters()\n",
    "        ):\n",
    "            target_param.data.copy_(\n",
    "                self.target_update * param.data\n",
    "                + (1 - self.target_update) * target_param.data\n",
    "            )\n",
    "\n",
    "        return loss.item()"
   ]
  },
  {
   "cell_type": "code",
   "execution_count": 6,
   "metadata": {},
   "outputs": [],
   "source": [
    "# функция треньки\n",
    "def train(env_name, num_episodes, max_steps=1000):\n",
    "    env = gym.make(env_name)\n",
    "    state_dim = env.observation_space.shape[0]\n",
    "    action_dim = env.action_space.n\n",
    "\n",
    "    # Создаем агента\n",
    "    agent = DQNAgent(state_dim, action_dim)\n",
    "\n",
    "    epsilon_start = 1.0\n",
    "    epsilon_end = 0.01\n",
    "    epsilon_decay = 0.995\n",
    "    epsilon = epsilon_start\n",
    "\n",
    "    episode_rewards = []\n",
    "    losses = []\n",
    "\n",
    "    for episode in tqdm(range(num_episodes)):\n",
    "        state, _ = env.reset()\n",
    "        episode_reward = 0\n",
    "        episode_loss = 0\n",
    "        steps = 0\n",
    "\n",
    "        for step in range(max_steps):\n",
    "            action = agent.q_network.act(state, epsilon)\n",
    "            next_state, reward, done, truncated, _ = env.step(action)\n",
    "\n",
    "            agent.memory.push(state, action, reward, next_state, float(done))\n",
    "            state = next_state\n",
    "            episode_reward += reward\n",
    "\n",
    "            loss = agent.update()\n",
    "            if loss is not None:\n",
    "                episode_loss += loss\n",
    "\n",
    "            steps += 1\n",
    "\n",
    "            if done or truncated:\n",
    "                break\n",
    "\n",
    "        epsilon = max(epsilon_end, epsilon * epsilon_decay)\n",
    "        episode_rewards.append(episode_reward)\n",
    "        losses.append(episode_loss / steps if steps > 0 else 0)\n",
    "\n",
    "        if (episode + 1) % 20 == 0:\n",
    "            avg_reward = np.mean(episode_rewards[-20:])\n",
    "            print(\n",
    "                f\"\\nEpisode {episode + 1}, Avg Reward: {avg_reward:.2f}, Epsilon: {epsilon:.2f}\"\n",
    "            )\n",
    "\n",
    "    env.close()\n",
    "    return episode_rewards, losses, agent  # Возвращаем агента"
   ]
  },
  {
   "cell_type": "code",
   "execution_count": 7,
   "metadata": {},
   "outputs": [],
   "source": [
    "# делаем график\n",
    "def plot_results(rewards, losses):\n",
    "    plt.figure(figsize=(12, 4))\n",
    "\n",
    "    plt.subplot(1, 2, 1)\n",
    "    plt.plot(rewards)\n",
    "    plt.title(\"Episode Rewards\")\n",
    "    plt.xlabel(\"Episode\")\n",
    "    plt.ylabel(\"Total Reward\")\n",
    "\n",
    "    plt.subplot(1, 2, 2)\n",
    "    plt.plot(losses)\n",
    "    plt.title(\"Training Loss\")\n",
    "    plt.xlabel(\"Episode\")\n",
    "    plt.ylabel(\"Loss\")\n",
    "\n",
    "    plt.tight_layout()\n",
    "    plt.show()"
   ]
  },
  {
   "cell_type": "code",
   "execution_count": 8,
   "metadata": {},
   "outputs": [],
   "source": [
    "# Визуализация обученного агента\n",
    "def visualize_agent(env_name, agent, num_episodes=5):\n",
    "    env = gym.make(env_name, render_mode=\"human\")\n",
    "\n",
    "    for episode in range(num_episodes):\n",
    "        state, _ = env.reset()\n",
    "        total_reward = 0\n",
    "        done = False\n",
    "\n",
    "        while not done:\n",
    "            action = agent.q_network.act(\n",
    "                state, epsilon=0\n",
    "            )  # Используем только эксплуатацию\n",
    "            next_state, reward, done, truncated, _ = env.step(action)\n",
    "            total_reward += reward\n",
    "            state = next_state\n",
    "\n",
    "            if truncated:\n",
    "                break\n",
    "\n",
    "        print(f\"Episode {episode + 1}: Total Reward = {total_reward:.2f}\")\n",
    "\n",
    "    env.close()"
   ]
  },
  {
   "cell_type": "code",
   "execution_count": 9,
   "metadata": {},
   "outputs": [
    {
     "name": "stderr",
     "output_type": "stream",
     "text": [
      "  0%|          | 0/500 [00:00<?, ?it/s]C:\\Users\\admin\\AppData\\Local\\Temp\\ipykernel_43532\\3502048601.py:14: UserWarning: Creating a tensor from a list of numpy.ndarrays is extremely slow. Please consider converting the list to a single numpy.ndarray with numpy.array() before converting to a tensor. (Triggered internally at ..\\torch\\csrc\\utils\\tensor_new.cpp:264.)\n",
      "  torch.FloatTensor(state).to(device),\n",
      "  4%|▍         | 20/500 [00:06<02:58,  2.69it/s]"
     ]
    },
    {
     "name": "stdout",
     "output_type": "stream",
     "text": [
      "\n",
      "Episode 20, Avg Reward: -167.76, Epsilon: 0.90\n"
     ]
    },
    {
     "name": "stderr",
     "output_type": "stream",
     "text": [
      "  8%|▊         | 40/500 [00:13<02:58,  2.58it/s]"
     ]
    },
    {
     "name": "stdout",
     "output_type": "stream",
     "text": [
      "\n",
      "Episode 40, Avg Reward: -88.23, Epsilon: 0.82\n"
     ]
    },
    {
     "name": "stderr",
     "output_type": "stream",
     "text": [
      " 12%|█▏        | 60/500 [00:20<02:41,  2.72it/s]"
     ]
    },
    {
     "name": "stdout",
     "output_type": "stream",
     "text": [
      "\n",
      "Episode 60, Avg Reward: -102.64, Epsilon: 0.74\n"
     ]
    },
    {
     "name": "stderr",
     "output_type": "stream",
     "text": [
      " 16%|█▌        | 80/500 [00:27<02:28,  2.83it/s]"
     ]
    },
    {
     "name": "stdout",
     "output_type": "stream",
     "text": [
      "\n",
      "Episode 80, Avg Reward: -59.95, Epsilon: 0.67\n"
     ]
    },
    {
     "name": "stderr",
     "output_type": "stream",
     "text": [
      " 20%|██        | 100/500 [00:36<02:58,  2.24it/s]"
     ]
    },
    {
     "name": "stdout",
     "output_type": "stream",
     "text": [
      "\n",
      "Episode 100, Avg Reward: -55.89, Epsilon: 0.61\n"
     ]
    },
    {
     "name": "stderr",
     "output_type": "stream",
     "text": [
      " 24%|██▍       | 120/500 [00:46<02:56,  2.15it/s]"
     ]
    },
    {
     "name": "stdout",
     "output_type": "stream",
     "text": [
      "\n",
      "Episode 120, Avg Reward: -75.81, Epsilon: 0.55\n"
     ]
    },
    {
     "name": "stderr",
     "output_type": "stream",
     "text": [
      " 28%|██▊       | 140/500 [00:58<03:36,  1.67it/s]"
     ]
    },
    {
     "name": "stdout",
     "output_type": "stream",
     "text": [
      "\n",
      "Episode 140, Avg Reward: -99.06, Epsilon: 0.50\n"
     ]
    },
    {
     "name": "stderr",
     "output_type": "stream",
     "text": [
      " 32%|███▏      | 160/500 [01:09<03:11,  1.78it/s]"
     ]
    },
    {
     "name": "stdout",
     "output_type": "stream",
     "text": [
      "\n",
      "Episode 160, Avg Reward: -146.38, Epsilon: 0.45\n"
     ]
    },
    {
     "name": "stderr",
     "output_type": "stream",
     "text": [
      " 36%|███▌      | 180/500 [01:43<16:25,  3.08s/it]"
     ]
    },
    {
     "name": "stdout",
     "output_type": "stream",
     "text": [
      "\n",
      "Episode 180, Avg Reward: -90.75, Epsilon: 0.41\n"
     ]
    },
    {
     "name": "stderr",
     "output_type": "stream",
     "text": [
      " 40%|████      | 200/500 [02:35<11:26,  2.29s/it]"
     ]
    },
    {
     "name": "stdout",
     "output_type": "stream",
     "text": [
      "\n",
      "Episode 200, Avg Reward: -101.11, Epsilon: 0.37\n"
     ]
    },
    {
     "name": "stderr",
     "output_type": "stream",
     "text": [
      " 44%|████▍     | 220/500 [03:35<10:38,  2.28s/it]"
     ]
    },
    {
     "name": "stdout",
     "output_type": "stream",
     "text": [
      "\n",
      "Episode 220, Avg Reward: -15.80, Epsilon: 0.33\n"
     ]
    },
    {
     "name": "stderr",
     "output_type": "stream",
     "text": [
      " 48%|████▊     | 240/500 [04:34<14:19,  3.31s/it]"
     ]
    },
    {
     "name": "stdout",
     "output_type": "stream",
     "text": [
      "\n",
      "Episode 240, Avg Reward: 19.84, Epsilon: 0.30\n"
     ]
    },
    {
     "name": "stderr",
     "output_type": "stream",
     "text": [
      " 52%|█████▏    | 260/500 [05:45<13:27,  3.36s/it]"
     ]
    },
    {
     "name": "stdout",
     "output_type": "stream",
     "text": [
      "\n",
      "Episode 260, Avg Reward: 40.01, Epsilon: 0.27\n"
     ]
    },
    {
     "name": "stderr",
     "output_type": "stream",
     "text": [
      " 56%|█████▌    | 280/500 [06:48<08:52,  2.42s/it]"
     ]
    },
    {
     "name": "stdout",
     "output_type": "stream",
     "text": [
      "\n",
      "Episode 280, Avg Reward: 48.02, Epsilon: 0.25\n"
     ]
    },
    {
     "name": "stderr",
     "output_type": "stream",
     "text": [
      " 60%|██████    | 300/500 [07:47<11:16,  3.38s/it]"
     ]
    },
    {
     "name": "stdout",
     "output_type": "stream",
     "text": [
      "\n",
      "Episode 300, Avg Reward: 3.45, Epsilon: 0.22\n"
     ]
    },
    {
     "name": "stderr",
     "output_type": "stream",
     "text": [
      " 64%|██████▍   | 320/500 [08:51<10:22,  3.46s/it]"
     ]
    },
    {
     "name": "stdout",
     "output_type": "stream",
     "text": [
      "\n",
      "Episode 320, Avg Reward: 67.08, Epsilon: 0.20\n"
     ]
    },
    {
     "name": "stderr",
     "output_type": "stream",
     "text": [
      " 68%|██████▊   | 340/500 [10:00<09:31,  3.57s/it]"
     ]
    },
    {
     "name": "stdout",
     "output_type": "stream",
     "text": [
      "\n",
      "Episode 340, Avg Reward: 83.27, Epsilon: 0.18\n"
     ]
    },
    {
     "name": "stderr",
     "output_type": "stream",
     "text": [
      " 72%|███████▏  | 360/500 [11:00<06:07,  2.62s/it]"
     ]
    },
    {
     "name": "stdout",
     "output_type": "stream",
     "text": [
      "\n",
      "Episode 360, Avg Reward: 52.13, Epsilon: 0.16\n"
     ]
    },
    {
     "name": "stderr",
     "output_type": "stream",
     "text": [
      " 76%|███████▌  | 380/500 [12:04<05:21,  2.68s/it]"
     ]
    },
    {
     "name": "stdout",
     "output_type": "stream",
     "text": [
      "\n",
      "Episode 380, Avg Reward: 81.97, Epsilon: 0.15\n"
     ]
    },
    {
     "name": "stderr",
     "output_type": "stream",
     "text": [
      " 80%|████████  | 400/500 [13:09<06:03,  3.64s/it]"
     ]
    },
    {
     "name": "stdout",
     "output_type": "stream",
     "text": [
      "\n",
      "Episode 400, Avg Reward: 89.86, Epsilon: 0.13\n"
     ]
    },
    {
     "name": "stderr",
     "output_type": "stream",
     "text": [
      " 84%|████████▍ | 420/500 [14:24<04:16,  3.21s/it]"
     ]
    },
    {
     "name": "stdout",
     "output_type": "stream",
     "text": [
      "\n",
      "Episode 420, Avg Reward: 145.38, Epsilon: 0.12\n"
     ]
    },
    {
     "name": "stderr",
     "output_type": "stream",
     "text": [
      " 88%|████████▊ | 440/500 [15:40<04:06,  4.11s/it]"
     ]
    },
    {
     "name": "stdout",
     "output_type": "stream",
     "text": [
      "\n",
      "Episode 440, Avg Reward: 100.58, Epsilon: 0.11\n"
     ]
    },
    {
     "name": "stderr",
     "output_type": "stream",
     "text": [
      " 92%|█████████▏| 460/500 [16:54<02:42,  4.06s/it]"
     ]
    },
    {
     "name": "stdout",
     "output_type": "stream",
     "text": [
      "\n",
      "Episode 460, Avg Reward: 122.70, Epsilon: 0.10\n"
     ]
    },
    {
     "name": "stderr",
     "output_type": "stream",
     "text": [
      " 96%|█████████▌| 480/500 [17:58<01:20,  4.05s/it]"
     ]
    },
    {
     "name": "stdout",
     "output_type": "stream",
     "text": [
      "\n",
      "Episode 480, Avg Reward: 161.00, Epsilon: 0.09\n"
     ]
    },
    {
     "name": "stderr",
     "output_type": "stream",
     "text": [
      "100%|██████████| 500/500 [18:50<00:00,  2.26s/it]"
     ]
    },
    {
     "name": "stdout",
     "output_type": "stream",
     "text": [
      "\n",
      "Episode 500, Avg Reward: 154.09, Epsilon: 0.08\n"
     ]
    },
    {
     "name": "stderr",
     "output_type": "stream",
     "text": [
      "\n"
     ]
    },
    {
     "data": {
      "image/png": "[encoded data removed]",
      "text/plain": [
       "<Figure size 1200x400 with 2 Axes>"
      ]
     },
     "metadata": {},
     "output_type": "display_data"
    },
    {
     "name": "stdout",
     "output_type": "stream",
     "text": [
      "\n",
      "Starting visualization of trained agent...\n",
      "Episode 1: Total Reward = 261.41\n",
      "Episode 2: Total Reward = -33.71\n",
      "Episode 3: Total Reward = 30.20\n",
      "Episode 4: Total Reward = 259.33\n",
      "Episode 5: Total Reward = 258.93\n",
      "\n",
      "Starting visualization of trained agent...\n",
      "Episode 1: Total Reward = 43.81\n",
      "Episode 2: Total Reward = 2.46\n",
      "Episode 3: Total Reward = 248.54\n",
      "Episode 4: Total Reward = -35.51\n",
      "Episode 5: Total Reward = 22.67\n"
     ]
    }
   ],
   "source": [
    "# Обучение агента\n",
    "# Процесс\n",
    "num_episodes = 500\n",
    "\n",
    "# сохраняем Реварды лосы и агента\n",
    "rewards, losses, agent = train(\"LunarLander-v3\", num_episodes)  # Получаем агента\n",
    "\n",
    "# риусем награды и лосы\n",
    "plot_results(rewards, losses)\n",
    "\n",
    "# Визуализация обученного агента\n",
    "# окошко пайтона см. во вкладках если не открылось окошко\n",
    "print(\"\\nПокажи ка Агента Мне...\")\n",
    "visualize_agent(\"LunarLander-v3\", agent, num_episodes=5)\n",
    "\n",
    "# Опционально: сохранение модели\n",
    "# для последуюещго тестирования обученности агента\n",
    "torch.save(\n",
    "    {\n",
    "        \"model_state_dict\": agent.q_network.state_dict(),\n",
    "        \"optimizer_state_dict\": agent.optimizer.state_dict(),\n",
    "        \"rewards\": rewards,\n",
    "        \"losses\": losses,\n",
    "    },\n",
    "    \"lunar_lander_checkpoint.pth\",\n",
    ")\n",
    "\n",
    "# Визуализация обученного агента\n",
    "print(\"\\nПокажи ка Агента Мне...\")\n",
    "visualize_agent(\"LunarLander-v3\", agent)"
   ]
  },
  {
   "cell_type": "code",
   "execution_count": 10,
   "metadata": {},
   "outputs": [],
   "source": [
    "# Если потом нужно загрузить модель: см. *.ptn\n",
    "def load_agent(checkpoint_path, state_dim, action_dim):\n",
    "    agent = DQNAgent(state_dim, action_dim)\n",
    "    checkpoint = torch.load(checkpoint_path)\n",
    "    agent.q_network.load_state_dict(checkpoint[\"model_state_dict\"])\n",
    "    agent.optimizer.load_state_dict(checkpoint[\"optimizer_state_dict\"])\n",
    "    return agent, checkpoint[\"rewards\"], checkpoint[\"losses\"]"
   ]
  },
  {
   "cell_type": "code",
   "execution_count": 13,
   "metadata": {},
   "outputs": [
    {
     "name": "stdout",
     "output_type": "stream",
     "text": [
      "Episode 1: Total Reward = 5.22\n",
      "Episode 2: Total Reward = 264.69\n",
      "Episode 3: Total Reward = 257.43\n",
      "Episode 4: Total Reward = 267.28\n",
      "Episode 5: Total Reward = 37.80\n"
     ]
    }
   ],
   "source": [
    "#посмотрим ещё на агента красавчика\n",
    "visualize_agent(\"LunarLander-v3\", agent)"
   ]
  }
 ],
 "metadata": {
  "kernelspec": {
   "display_name": "venv310GPU",
   "language": "python",
   "name": "python3"
  },
  "language_info": {
   "codemirror_mode": {
    "name": "ipython",
    "version": 3
   },
   "file_extension": ".py",
   "mimetype": "text/x-python",
   "name": "python",
   "nbconvert_exporter": "python",
   "pygments_lexer": "ipython3",
   "version": "3.10.6"
  }
 },
 "nbformat": 4,
 "nbformat_minor": 2
}
